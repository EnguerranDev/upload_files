{
 "cells": [
  {
   "cell_type": "code",
   "execution_count": 129,
   "id": "37314381-b19f-4b1d-b064-bcb244436e4b",
   "metadata": {
    "execution": {
     "iopub.execute_input": "2025-08-07T10:28:55.814293Z",
     "iopub.status.busy": "2025-08-07T10:28:55.813412Z",
     "iopub.status.idle": "2025-08-07T10:28:55.818846Z",
     "shell.execute_reply": "2025-08-07T10:28:55.817953Z",
     "shell.execute_reply.started": "2025-08-07T10:28:55.814258Z"
    }
   },
   "outputs": [],
   "source": [
    "from pdf2image import convert_from_path\n",
    "from PyPDF2 import PdfReader, PdfWriter\n",
    "from io import BytesIO\n",
    "import base64\n",
    "from io import BytesIO\n",
    "from PIL import Image # Assuming you are using Pillow for image manipulation\n",
    "import json\n",
    "import boto3\n",
    "import ast\n",
    "from datetime import datetime\n",
    "from dateutil.parser import parse"
   ]
  },
  {
   "cell_type": "markdown",
   "id": "516c898e-ee36-47b9-88da-58ca198e31f2",
   "metadata": {},
   "source": [
    "# Pipeline to clean the PDF"
   ]
  },
  {
   "cell_type": "code",
   "execution_count": 17,
   "id": "32ca8f78-343e-412f-b7d7-b0747e7f570e",
   "metadata": {
    "execution": {
     "iopub.execute_input": "2025-08-07T09:10:09.430317Z",
     "iopub.status.busy": "2025-08-07T09:10:09.429562Z",
     "iopub.status.idle": "2025-08-07T09:10:09.434705Z",
     "shell.execute_reply": "2025-08-07T09:10:09.433770Z",
     "shell.execute_reply.started": "2025-08-07T09:10:09.430288Z"
    }
   },
   "outputs": [],
   "source": [
    "def pdf_to_images(path):\n",
    "    \"\"\"Function that converts the pdf to a lit of b64 images\"\"\"\n",
    "    images = convert_from_path(path)\n",
    "    list_b64 = []\n",
    "    for image in images:\n",
    "        img_buffer = BytesIO()\n",
    "        image.save(img_buffer, format='PNG') # Specify the format (e.g., 'PNG', 'JPEG')\n",
    "        byte_data = img_buffer.getvalue()\n",
    "        base64_bytes = base64.b64encode(byte_data).decode('utf-8')\n",
    "        list_b64.append(base64_bytes)\n",
    "    return list_b64"
   ]
  },
  {
   "cell_type": "code",
   "execution_count": 151,
   "id": "cd8d058e-8b51-4bbe-a9fa-0e1aace8e083",
   "metadata": {
    "execution": {
     "iopub.execute_input": "2025-08-07T11:06:11.023950Z",
     "iopub.status.busy": "2025-08-07T11:06:11.023648Z",
     "iopub.status.idle": "2025-08-07T11:06:11.028186Z",
     "shell.execute_reply": "2025-08-07T11:06:11.027429Z",
     "shell.execute_reply.started": "2025-08-07T11:06:11.023927Z"
    }
   },
   "outputs": [],
   "source": [
    "def body_builder(list_b64, prompt):\n",
    "    \"\"\"Function that arrange the image and prompt at the format expected by Anthropic\"\"\"\n",
    "    lst = [{'type' : 'text','text' : prompt}]\n",
    "    stacking = [{'type' : 'image','source' : {'type' : 'base64','media_type' : 'image/png','data' : image_b64}} for image_b64 in list_b64]\n",
    "    content = lst + stacking\n",
    "    body = json.dumps(\n",
    "        {\n",
    "            'anthropic_version': 'bedrock-2023-05-31',\n",
    "            'max_tokens': 2048,\n",
    "            'messages': [{\n",
    "                'role' : 'user',\n",
    "                'content' : content\n",
    "            }]\n",
    "        }\n",
    "    )\n",
    "    return body"
   ]
  },
  {
   "cell_type": "code",
   "execution_count": 152,
   "id": "3a1a5b96-4126-4069-b2ef-f2f58d8ac6ac",
   "metadata": {
    "execution": {
     "iopub.execute_input": "2025-08-07T11:06:14.776637Z",
     "iopub.status.busy": "2025-08-07T11:06:14.775856Z",
     "iopub.status.idle": "2025-08-07T11:06:14.780854Z",
     "shell.execute_reply": "2025-08-07T11:06:14.779929Z",
     "shell.execute_reply.started": "2025-08-07T11:06:14.776606Z"
    }
   },
   "outputs": [],
   "source": [
    "def extract_image(body):\n",
    "    \"\"\"\n",
    "    VLM call to extract content from an image\n",
    "    Args:\n",
    "        body (str) : body of the request\n",
    "    Returns:\n",
    "        The response from the model\n",
    "    \"\"\"\n",
    "    model_id = 'anthropic.claude-3-5-sonnet-20240620-v1:0'\n",
    "    accept = '*/*'\n",
    "    content_type = 'application/json'\n",
    "\n",
    "    region_name = boto3.Session().region_name\n",
    "    bedrock = boto3.client(service_name='bedrock-runtime', region_name=region_name)\n",
    "    \n",
    "    response = bedrock.invoke_model(\n",
    "        body=body,\n",
    "        modelId=model_id,\n",
    "        accept=accept,\n",
    "        contentType=content_type\n",
    "    )\n",
    "    \n",
    "    r_body = json.loads(response.get('body').read())\n",
    "    return r_body"
   ]
  },
  {
   "cell_type": "code",
   "execution_count": 153,
   "id": "da35517a-629a-46fc-94e5-bbd61591ca2e",
   "metadata": {
    "execution": {
     "iopub.execute_input": "2025-08-07T11:06:15.113586Z",
     "iopub.status.busy": "2025-08-07T11:06:15.113236Z",
     "iopub.status.idle": "2025-08-07T11:06:15.118146Z",
     "shell.execute_reply": "2025-08-07T11:06:15.117201Z",
     "shell.execute_reply.started": "2025-08-07T11:06:15.113563Z"
    }
   },
   "outputs": [],
   "source": [
    "def clean_pdf(indexes, path):\n",
    "    \"\"\"Extract a few pages from the pdf\"\"\"\n",
    "    reader = PdfReader (path)\n",
    "    writer = PdfWriter()\n",
    "    for index in indexes:\n",
    "        writer.add_page (reader.pages[index])\n",
    "    with open(path[:-4] + 'eng_clean.pdf', \"wb\") as output_pdf:\n",
    "        writer.write(output_pdf)    "
   ]
  },
  {
   "cell_type": "code",
   "execution_count": 158,
   "id": "d105d04a-5eae-4efe-96c3-315a1a30d75a",
   "metadata": {
    "execution": {
     "iopub.execute_input": "2025-08-07T11:09:31.278708Z",
     "iopub.status.busy": "2025-08-07T11:09:31.278341Z",
     "iopub.status.idle": "2025-08-07T11:09:31.284131Z",
     "shell.execute_reply": "2025-08-07T11:09:31.283224Z",
     "shell.execute_reply.started": "2025-08-07T11:09:31.278677Z"
    }
   },
   "outputs": [],
   "source": [
    "def remove_disclaimers(prompt, path):\n",
    "    \"\"\"Whole pipeline to clean up the pdf putting all together\"\"\"\n",
    "    # Get the list of image\n",
    "    list_b64 = pdf_to_images(path)\n",
    "    # Build my payload for llm\n",
    "    body = body_builder(list_b64, prompt)\n",
    "    # Send payload\n",
    "    r = extract_image(body)\n",
    "    print(r)\n",
    "    # Process response\n",
    "    indexes = ast.literal_eval(r['content'][0]['text'])\n",
    "    # Rebuild pdf\n",
    "    clean_pdf(indexes, path)\n",
    "    return r"
   ]
  },
  {
   "cell_type": "code",
   "execution_count": 159,
   "id": "e4627e3b-0be9-4ed2-bd6c-2f55855919fd",
   "metadata": {
    "execution": {
     "iopub.execute_input": "2025-08-07T11:09:31.543968Z",
     "iopub.status.busy": "2025-08-07T11:09:31.543613Z",
     "iopub.status.idle": "2025-08-07T11:09:37.207627Z",
     "shell.execute_reply": "2025-08-07T11:09:37.206231Z",
     "shell.execute_reply.started": "2025-08-07T11:09:31.543945Z"
    }
   },
   "outputs": [
    {
     "name": "stdout",
     "output_type": "stream",
     "text": [
      "{'id': 'msg_bdrk_01QFekGZvA81ibHcUDuNS7od', 'type': 'message', 'role': 'assistant', 'model': 'claude-3-5-sonnet-20240620', 'content': [{'type': 'text', 'text': '[0, 1, 2, 3, 4]'}], 'stop_reason': 'end_turn', 'stop_sequence': None, 'usage': {'input_tokens': 12523, 'output_tokens': 18}}\n"
     ]
    }
   ],
   "source": [
    "# Prompt and path for the testing\n",
    "path = 'test_files/XS2845792592.pdf'\n",
    "prompt = 'I am passing you a list of images that come from a financial term sheet, this financial term sheet contains information relative to the financial asset in some pages, but some other pages contain only disclaimers statements of risk and other legal stuff, can you please send me back an array of the index of the images that contain information relative to the asset, make sure to only pass me back the array of indexes and nothing else'\n",
    "r = remove_disclaimers(prompt, path)"
   ]
  },
  {
   "cell_type": "code",
   "execution_count": 160,
   "id": "bfb90cc3-2efa-483d-a6c9-3433030033cf",
   "metadata": {
    "execution": {
     "iopub.execute_input": "2025-08-07T11:09:37.209676Z",
     "iopub.status.busy": "2025-08-07T11:09:37.209170Z",
     "iopub.status.idle": "2025-08-07T11:09:37.215088Z",
     "shell.execute_reply": "2025-08-07T11:09:37.214368Z",
     "shell.execute_reply.started": "2025-08-07T11:09:37.209644Z"
    }
   },
   "outputs": [
    {
     "data": {
      "text/plain": [
       "{'id': 'msg_bdrk_01QFekGZvA81ibHcUDuNS7od',\n",
       " 'type': 'message',\n",
       " 'role': 'assistant',\n",
       " 'model': 'claude-3-5-sonnet-20240620',\n",
       " 'content': [{'type': 'text', 'text': '[0, 1, 2, 3, 4]'}],\n",
       " 'stop_reason': 'end_turn',\n",
       " 'stop_sequence': None,\n",
       " 'usage': {'input_tokens': 12523, 'output_tokens': 18}}"
      ]
     },
     "execution_count": 160,
     "metadata": {},
     "output_type": "execute_result"
    }
   ],
   "source": [
    "r"
   ]
  },
  {
   "cell_type": "markdown",
   "id": "4db6bb81-4bae-4704-b4ce-279e9f6f0e32",
   "metadata": {},
   "source": [
    "# Pipeline to extract the JSON from the PDF"
   ]
  },
  {
   "cell_type": "code",
   "execution_count": 2,
   "id": "51756b6b-7b23-4c92-861c-57256c4f12de",
   "metadata": {
    "execution": {
     "iopub.execute_input": "2025-08-07T09:02:20.139015Z",
     "iopub.status.busy": "2025-08-07T09:02:20.138723Z",
     "iopub.status.idle": "2025-08-07T09:02:20.148473Z",
     "shell.execute_reply": "2025-08-07T09:02:20.147513Z",
     "shell.execute_reply.started": "2025-08-07T09:02:20.138990Z"
    }
   },
   "outputs": [],
   "source": [
    "json_example = {\n",
    "  \"issuer_lei\": \"W22LROWP2IHZNBB6K528\",\n",
    "  \"isin\": \"XS2773440412\",\n",
    "  \"currency\": \"EUR\",\n",
    "  \"underlyings\": [\n",
    "    {\n",
    "      \"name\": \"Mercedes-Benz Group AG\",\n",
    "      \"currency\": \"EUR\",\n",
    "      \"isin\": \"DE0007100000\",\n",
    "      \"bloomberg_ticker\": \"MBG GY\",\n",
    "      \"fixing_price_original\": \"74.0800\"\n",
    "    },\n",
    "    {\n",
    "      \"name\": \"SAP SE\",\n",
    "      \"currency\": \"EUR\",\n",
    "      \"isin\": \"DE0007164600\",\n",
    "      \"bloomberg_ticker\": \"SAP GY\",\n",
    "      \"fixing_price_original\": \"174.7400\"\n",
    "    },\n",
    "    {\n",
    "      \"name\": \"NOVO NORDISK A/S\",\n",
    "      \"currency\": \"DKK\",\n",
    "      \"isin\": \"DK0062498333\",\n",
    "      \"bloomberg_ticker\": \"NOVOB DC\",\n",
    "      \"fixing_price_original\": \"888.0000\"\n",
    "    }\n",
    "  ],\n",
    "  \"initial_fixing_date\": \"2024-03-21\",\n",
    "  \"issue_date\": \"2024-04-04\",\n",
    "  \"final_fixing_date\": \"2025-10-06\",\n",
    "  \"maturity_date\": \"2025-10-08\",\n",
    "  \"coupon_schedule\": [\n",
    "    {\n",
    "      \"fixing_date\": \"2024-05-06\",\n",
    "      \"settlement_date\": \"2024-05-08\"\n",
    "    },\n",
    "    {\n",
    "      \"fixing_date\": \"2024-06-04\",\n",
    "      \"settlement_date\": \"2024-06-06\"\n",
    "    },\n",
    "    {\n",
    "      \"fixing_date\": \"2024-07-04\",\n",
    "      \"settlement_date\": \"2024-07-08\"\n",
    "    },\n",
    "    {\n",
    "      \"fixing_date\": \"2024-08-05\",\n",
    "      \"settlement_date\": \"2024-08-07\"\n",
    "    },\n",
    "    {\n",
    "      \"fixing_date\": \"2024-09-04\",\n",
    "      \"settlement_date\": \"2024-09-06\"\n",
    "    },\n",
    "    {\n",
    "      \"fixing_date\": \"2024-10-04\",\n",
    "      \"settlement_date\": \"2024-10-08\"\n",
    "    },\n",
    "    {\n",
    "      \"fixing_date\": \"2024-11-04\",\n",
    "      \"settlement_date\": \"2024-11-06\"\n",
    "    },\n",
    "    {\n",
    "      \"fixing_date\": \"2024-12-04\",\n",
    "      \"settlement_date\": \"2024-12-06\"\n",
    "    },\n",
    "    {\n",
    "      \"fixing_date\": \"2025-01-06\",\n",
    "      \"settlement_date\": \"2025-01-08\"\n",
    "    },\n",
    "    {\n",
    "      \"fixing_date\": \"2025-02-04\",\n",
    "      \"settlement_date\": \"2025-02-06\"\n",
    "    },\n",
    "    {\n",
    "      \"fixing_date\": \"2025-03-04\",\n",
    "      \"settlement_date\": \"2025-03-06\"\n",
    "    },\n",
    "    {\n",
    "      \"fixing_date\": \"2025-04-04\",\n",
    "      \"settlement_date\": \"2025-04-08\"\n",
    "    },\n",
    "    {\n",
    "      \"fixing_date\": \"2025-05-05\",\n",
    "      \"settlement_date\": \"2025-05-07\"\n",
    "    },\n",
    "    {\n",
    "      \"fixing_date\": \"2025-06-04\",\n",
    "      \"settlement_date\": \"2025-06-06\"\n",
    "    },\n",
    "    {\n",
    "      \"fixing_date\": \"2025-07-04\",\n",
    "      \"settlement_date\": \"2025-07-08\"\n",
    "    },\n",
    "    {\n",
    "      \"fixing_date\": \"2025-08-04\",\n",
    "      \"settlement_date\": \"2025-08-06\"\n",
    "    },\n",
    "    {\n",
    "      \"fixing_date\": \"2025-09-04\",\n",
    "      \"settlement_date\": \"2025-09-08\"\n",
    "    },\n",
    "    {\n",
    "      \"fixing_date\": \"2025-10-06\",\n",
    "      \"settlement_date\": \"2025-10-08\"\n",
    "    }\n",
    "  ],\n",
    "  \"autocall_schedule\": [\n",
    "    {\n",
    "      \"observation_date\": \"2024-10-04\",\n",
    "      \"settlement_date\": \"2024-10-08\"\n",
    "    },\n",
    "    {\n",
    "      \"observation_date\": \"2024-11-04\",\n",
    "      \"settlement_date\": \"2024-11-06\"\n",
    "    },\n",
    "    {\n",
    "      \"observation_date\": \"2024-12-04\",\n",
    "      \"settlement_date\": \"2024-12-06\"\n",
    "    },\n",
    "    {\n",
    "      \"observation_date\": \"2025-01-06\",\n",
    "      \"settlement_date\": \"2025-01-08\"\n",
    "    },\n",
    "    {\n",
    "      \"observation_date\": \"2025-02-04\",\n",
    "      \"settlement_date\": \"2025-02-06\"\n",
    "    },\n",
    "    {\n",
    "      \"observation_date\": \"2025-03-04\",\n",
    "      \"settlement_date\": \"2025-03-06\"\n",
    "    },\n",
    "    {\n",
    "      \"observation_date\": \"2025-04-04\",\n",
    "      \"settlement_date\": \"2025-04-08\"\n",
    "    },\n",
    "    {\n",
    "      \"observation_date\": \"2025-05-05\",\n",
    "      \"settlement_date\": \"2025-05-07\"\n",
    "    },\n",
    "    {\n",
    "      \"observation_date\": \"2025-06-04\",\n",
    "      \"settlement_date\": \"2025-06-06\"\n",
    "    },\n",
    "    {\n",
    "      \"observation_date\": \"2025-07-04\",\n",
    "      \"settlement_date\": \"2025-07-08\"\n",
    "    },\n",
    "    {\n",
    "      \"observation_date\": \"2025-08-04\",\n",
    "      \"settlement_date\": \"2025-08-06\"\n",
    "    },\n",
    "    {\n",
    "      \"observation_date\": \"2025-09-04\",\n",
    "      \"settlement_date\": \"2025-09-08\"\n",
    "    }\n",
    "  ],\n",
    "  \"autocall_percent_value\": \"100.0000\",\n",
    "  \"coupon_percent_value\": \"9.9600\",\n",
    "  \"knock_in_barrier_level\": None,\n",
    "  \"strike_level\": \"79.0000\",\n",
    "  \"stepdown_level\": None,\n",
    "  \"knock_in_observation\": \"\",\n",
    "  \"first_autocall_observation_date\": \"2024-10-04\",\n",
    "  \"autocall_frequency\": \"Monthly\",\n",
    "  \"autocall_observation_style\": \"End of Period\",\n",
    "  \"autocall_non_call_periods\": None,\n",
    "  \"coupon_frequency\": \"Monthly\"\n",
    "}"
   ]
  },
  {
   "cell_type": "code",
   "execution_count": 190,
   "id": "91bf2cae-6f74-458e-9835-2e5f4a1014f9",
   "metadata": {
    "execution": {
     "iopub.execute_input": "2025-08-07T11:32:56.153060Z",
     "iopub.status.busy": "2025-08-07T11:32:56.152494Z",
     "iopub.status.idle": "2025-08-07T11:32:56.156764Z",
     "shell.execute_reply": "2025-08-07T11:32:56.156022Z",
     "shell.execute_reply.started": "2025-08-07T11:32:56.153022Z"
    }
   },
   "outputs": [],
   "source": [
    "def get_json(path_clean,prompt):\n",
    "    # Get the list of image\n",
    "    list_b64 = pdf_to_images(path_clean)\n",
    "    # Build my payload for llm\n",
    "    body = body_builder(list_b64, prompt)\n",
    "    # Send payload\n",
    "    r = extract_image(body)\n",
    "    output_json = json.loads(r['content'][0]['text'])\n",
    "    return output_json, r"
   ]
  },
  {
   "cell_type": "code",
   "execution_count": 191,
   "id": "9651a165-a8b1-422b-812a-2dc707b623fb",
   "metadata": {
    "execution": {
     "iopub.execute_input": "2025-08-07T11:32:56.426248Z",
     "iopub.status.busy": "2025-08-07T11:32:56.425905Z",
     "iopub.status.idle": "2025-08-07T11:33:20.137581Z",
     "shell.execute_reply": "2025-08-07T11:33:20.136776Z",
     "shell.execute_reply.started": "2025-08-07T11:32:56.426224Z"
    }
   },
   "outputs": [],
   "source": [
    "path_clean = 'test_files/XS2845792592eng_clean.pdf'\n",
    "prompt = f\"\"\"I have this json example {json.dumps(json_example)} and I give you a document containing information about a financial asset, can you please replace the fields and output me back the json with the information of the right document filled, make sure to only give me the json so I can parse it properly, do not put break lines, also take into account that the values of 'first_autocall_observation_date': '17 January 2025',\n",
    " 'autocall_frequency': 'Monthly' or 'Daily'\n",
    " 'autocall_observation_style': 'End of Period' or 'Daily Close',\n",
    " 'coupon_frequency': 'Monthly' or 'Daily'\n",
    " \"\"\"\n",
    "json_claude, r = get_json(path_clean,prompt)"
   ]
  },
  {
   "cell_type": "code",
   "execution_count": 192,
   "id": "1ee41e88-76b0-4bcc-8013-336fb53ac28d",
   "metadata": {
    "execution": {
     "iopub.execute_input": "2025-08-07T11:33:20.138962Z",
     "iopub.status.busy": "2025-08-07T11:33:20.138679Z",
     "iopub.status.idle": "2025-08-07T11:33:20.144522Z",
     "shell.execute_reply": "2025-08-07T11:33:20.143828Z",
     "shell.execute_reply.started": "2025-08-07T11:33:20.138941Z"
    }
   },
   "outputs": [
    {
     "data": {
      "text/plain": [
       "{'issuer_lei': '549300QNMDBVTHX8H127',\n",
       " 'isin': 'XS2845792592',\n",
       " 'currency': 'AUD',\n",
       " 'underlyings': [{'name': 'NVIDIA CORP',\n",
       "   'currency': 'USD',\n",
       "   'isin': None,\n",
       "   'bloomberg_ticker': 'NVDA UW',\n",
       "   'fixing_price_original': '121.6000'},\n",
       "  {'name': 'ADVANCED MICRO DEVICES',\n",
       "   'currency': 'USD',\n",
       "   'isin': None,\n",
       "   'bloomberg_ticker': 'AMD UW',\n",
       "   'fixing_price_original': '164.1500'},\n",
       "  {'name': 'ALPHABET INC-CL A',\n",
       "   'currency': 'USD',\n",
       "   'isin': None,\n",
       "   'bloomberg_ticker': 'GOOGL UW',\n",
       "   'fixing_price_original': '184.7700'}],\n",
       " 'initial_fixing_date': '2024-07-17',\n",
       " 'issue_date': '2024-07-17',\n",
       " 'final_fixing_date': '2026-01-20',\n",
       " 'maturity_date': '2026-01-22',\n",
       " 'coupon_schedule': [{'fixing_date': '2024-08-19',\n",
       "   'settlement_date': '2024-08-21'},\n",
       "  {'fixing_date': '2024-09-17', 'settlement_date': '2024-09-19'},\n",
       "  {'fixing_date': '2024-10-17', 'settlement_date': '2024-10-21'},\n",
       "  {'fixing_date': '2024-11-18', 'settlement_date': '2024-11-20'},\n",
       "  {'fixing_date': '2024-12-17', 'settlement_date': '2024-12-19'},\n",
       "  {'fixing_date': '2025-01-17', 'settlement_date': '2025-01-21'},\n",
       "  {'fixing_date': '2025-02-18', 'settlement_date': '2025-02-20'},\n",
       "  {'fixing_date': '2025-03-17', 'settlement_date': '2025-03-19'},\n",
       "  {'fixing_date': '2025-04-17', 'settlement_date': '2025-04-23'},\n",
       "  {'fixing_date': '2025-05-19', 'settlement_date': '2025-05-21'},\n",
       "  {'fixing_date': '2025-06-17', 'settlement_date': '2025-06-19'},\n",
       "  {'fixing_date': '2025-07-17', 'settlement_date': '2025-07-21'},\n",
       "  {'fixing_date': '2025-08-18', 'settlement_date': '2025-08-20'},\n",
       "  {'fixing_date': '2025-09-17', 'settlement_date': '2025-09-19'},\n",
       "  {'fixing_date': '2025-10-17', 'settlement_date': '2025-10-21'},\n",
       "  {'fixing_date': '2025-11-17', 'settlement_date': '2025-11-19'},\n",
       "  {'fixing_date': '2025-12-17', 'settlement_date': '2025-12-19'},\n",
       "  {'fixing_date': '2026-01-20', 'settlement_date': '2026-01-22'}],\n",
       " 'autocall_schedule': [{'observation_date': '2025-01-17',\n",
       "   'settlement_date': '2025-01-21'},\n",
       "  {'observation_date': '2025-02-18', 'settlement_date': '2025-02-20'},\n",
       "  {'observation_date': '2025-03-17', 'settlement_date': '2025-03-19'},\n",
       "  {'observation_date': '2025-04-17', 'settlement_date': '2025-04-23'},\n",
       "  {'observation_date': '2025-05-19', 'settlement_date': '2025-05-21'},\n",
       "  {'observation_date': '2025-06-17', 'settlement_date': '2025-06-19'},\n",
       "  {'observation_date': '2025-07-17', 'settlement_date': '2025-07-21'},\n",
       "  {'observation_date': '2025-08-18', 'settlement_date': '2025-08-20'},\n",
       "  {'observation_date': '2025-09-17', 'settlement_date': '2025-09-19'},\n",
       "  {'observation_date': '2025-10-17', 'settlement_date': '2025-10-21'},\n",
       "  {'observation_date': '2025-11-17', 'settlement_date': '2025-11-19'},\n",
       "  {'observation_date': '2025-12-17', 'settlement_date': '2025-12-19'}],\n",
       " 'autocall_percent_value': '100.0000',\n",
       " 'coupon_percent_value': '12.5000',\n",
       " 'knock_in_barrier_level': None,\n",
       " 'strike_level': '65.0000',\n",
       " 'stepdown_level': None,\n",
       " 'knock_in_observation': '',\n",
       " 'first_autocall_observation_date': '2025-01-17',\n",
       " 'autocall_frequency': 'Monthly',\n",
       " 'autocall_observation_style': 'End of Period',\n",
       " 'autocall_non_call_periods': None,\n",
       " 'coupon_frequency': 'Monthly'}"
      ]
     },
     "execution_count": 192,
     "metadata": {},
     "output_type": "execute_result"
    }
   ],
   "source": [
    "json_claude"
   ]
  },
  {
   "cell_type": "markdown",
   "id": "dbe60c48-dff7-4a2a-8c3c-81b982663e2d",
   "metadata": {},
   "source": [
    "# Validation"
   ]
  },
  {
   "cell_type": "code",
   "execution_count": 180,
   "id": "cf66a48a-d744-4194-9bd9-75803d073782",
   "metadata": {
    "execution": {
     "iopub.execute_input": "2025-08-07T11:21:37.791127Z",
     "iopub.status.busy": "2025-08-07T11:21:37.790650Z",
     "iopub.status.idle": "2025-08-07T11:21:37.804409Z",
     "shell.execute_reply": "2025-08-07T11:21:37.803700Z",
     "shell.execute_reply.started": "2025-08-07T11:21:37.791095Z"
    }
   },
   "outputs": [
    {
     "data": {
      "text/plain": [
       "{'issuer_lei': '549300QNMDBVTHX8H127',\n",
       " 'isin': 'XS2845792592',\n",
       " 'currency': 'AUD',\n",
       " 'underlyings': [{'name': 'Advanced Micro Devices Inc',\n",
       "   'currency': 'USD',\n",
       "   'isin': 'US0079031078',\n",
       "   'bloomberg_ticker': 'AMD UQ',\n",
       "   'fixing_price_original': '164.1500'},\n",
       "  {'name': 'Alphabet Inc (Class A)',\n",
       "   'currency': 'USD',\n",
       "   'isin': 'US02079K3059',\n",
       "   'bloomberg_ticker': 'GOOGL UQ',\n",
       "   'fixing_price_original': '184.7700'},\n",
       "  {'name': 'NVIDIA Corp',\n",
       "   'currency': 'USD',\n",
       "   'isin': 'US67066G1040',\n",
       "   'bloomberg_ticker': 'NVDA UQ',\n",
       "   'fixing_price_original': '121.6000'}],\n",
       " 'initial_fixing_date': '2024-07-03',\n",
       " 'issue_date': '2024-07-17',\n",
       " 'final_fixing_date': '2026-01-20',\n",
       " 'maturity_date': '2026-01-22',\n",
       " 'coupon_schedule': [{'fixing_date': '2024-08-19',\n",
       "   'settlement_date': '2024-08-21'},\n",
       "  {'fixing_date': '2024-09-17', 'settlement_date': '2024-09-19'},\n",
       "  {'fixing_date': '2024-10-17', 'settlement_date': '2024-10-21'},\n",
       "  {'fixing_date': '2024-11-18', 'settlement_date': '2024-11-20'},\n",
       "  {'fixing_date': '2024-12-17', 'settlement_date': '2024-12-19'},\n",
       "  {'fixing_date': '2025-01-17', 'settlement_date': '2025-01-21'},\n",
       "  {'fixing_date': '2025-02-18', 'settlement_date': '2025-02-20'},\n",
       "  {'fixing_date': '2025-03-17', 'settlement_date': '2025-03-19'},\n",
       "  {'fixing_date': '2025-04-17', 'settlement_date': '2025-04-23'},\n",
       "  {'fixing_date': '2025-05-19', 'settlement_date': '2025-05-21'},\n",
       "  {'fixing_date': '2025-06-17', 'settlement_date': '2025-06-19'},\n",
       "  {'fixing_date': '2025-07-17', 'settlement_date': '2025-07-21'},\n",
       "  {'fixing_date': '2025-08-18', 'settlement_date': '2025-08-20'},\n",
       "  {'fixing_date': '2025-09-17', 'settlement_date': '2025-09-19'},\n",
       "  {'fixing_date': '2025-10-17', 'settlement_date': '2025-10-21'},\n",
       "  {'fixing_date': '2025-11-17', 'settlement_date': '2025-11-19'},\n",
       "  {'fixing_date': '2025-12-17', 'settlement_date': '2025-12-19'},\n",
       "  {'fixing_date': '2026-01-20', 'settlement_date': '2026-01-22'}],\n",
       " 'autocall_schedule': [],\n",
       " 'autocall_percent_value': '100.0000',\n",
       " 'coupon_percent_value': '12.5000',\n",
       " 'knock_in_barrier_level': None,\n",
       " 'strike_level': '65.0000',\n",
       " 'stepdown_level': None,\n",
       " 'knock_in_observation': '',\n",
       " 'first_autocall_observation_date': '2025-01-17',\n",
       " 'autocall_frequency': 'Daily',\n",
       " 'autocall_observation_style': 'Daily Close',\n",
       " 'autocall_non_call_periods': None,\n",
       " 'coupon_frequency': 'Monthly'}"
      ]
     },
     "execution_count": 180,
     "metadata": {},
     "output_type": "execute_result"
    }
   ],
   "source": [
    "with open('test_files/sample_output/XS2845792592.json', 'r') as f:\n",
    "    data = f.read()\n",
    "json_lgt = json.loads(data)\n",
    "json_lgt"
   ]
  },
  {
   "cell_type": "code",
   "execution_count": 181,
   "id": "8705d278-ff6a-4f4d-8a8d-5e29be1553d1",
   "metadata": {
    "execution": {
     "iopub.execute_input": "2025-08-07T11:21:37.806375Z",
     "iopub.status.busy": "2025-08-07T11:21:37.805886Z",
     "iopub.status.idle": "2025-08-07T11:21:37.812544Z",
     "shell.execute_reply": "2025-08-07T11:21:37.811698Z",
     "shell.execute_reply.started": "2025-08-07T11:21:37.806343Z"
    }
   },
   "outputs": [
    {
     "data": {
      "text/plain": [
       "{'issuer_lei': '549300QNMDBVTHX8H127',\n",
       " 'isin': 'XS2845792592',\n",
       " 'currency': 'AUD',\n",
       " 'underlyings': [{'name': 'NVIDIA CORP',\n",
       "   'currency': 'USD',\n",
       "   'isin': '',\n",
       "   'bloomberg_ticker': 'NVDA UW',\n",
       "   'fixing_price_original': '121.6000'},\n",
       "  {'name': 'ADVANCED MICRO DEVICES',\n",
       "   'currency': 'USD',\n",
       "   'isin': '',\n",
       "   'bloomberg_ticker': 'AMD UW',\n",
       "   'fixing_price_original': '164.1500'},\n",
       "  {'name': 'ALPHABET INC-CL A',\n",
       "   'currency': 'USD',\n",
       "   'isin': '',\n",
       "   'bloomberg_ticker': 'GOOGL UW',\n",
       "   'fixing_price_original': '184.7700'}],\n",
       " 'initial_fixing_date': '2024-07-17',\n",
       " 'issue_date': '2024-07-17',\n",
       " 'final_fixing_date': '2026-01-20',\n",
       " 'maturity_date': '2026-01-22',\n",
       " 'coupon_schedule': [{'fixing_date': '2024-08-19',\n",
       "   'settlement_date': '2024-08-21'},\n",
       "  {'fixing_date': '2024-09-17', 'settlement_date': '2024-09-19'},\n",
       "  {'fixing_date': '2024-10-17', 'settlement_date': '2024-10-21'},\n",
       "  {'fixing_date': '2024-11-18', 'settlement_date': '2024-11-20'},\n",
       "  {'fixing_date': '2024-12-17', 'settlement_date': '2024-12-19'},\n",
       "  {'fixing_date': '2025-01-17', 'settlement_date': '2025-01-21'},\n",
       "  {'fixing_date': '2025-02-18', 'settlement_date': '2025-02-20'},\n",
       "  {'fixing_date': '2025-03-17', 'settlement_date': '2025-03-19'},\n",
       "  {'fixing_date': '2025-04-17', 'settlement_date': '2025-04-23'},\n",
       "  {'fixing_date': '2025-05-19', 'settlement_date': '2025-05-21'},\n",
       "  {'fixing_date': '2025-06-17', 'settlement_date': '2025-06-19'},\n",
       "  {'fixing_date': '2025-07-17', 'settlement_date': '2025-07-21'},\n",
       "  {'fixing_date': '2025-08-18', 'settlement_date': '2025-08-20'},\n",
       "  {'fixing_date': '2025-09-17', 'settlement_date': '2025-09-19'},\n",
       "  {'fixing_date': '2025-10-17', 'settlement_date': '2025-10-21'},\n",
       "  {'fixing_date': '2025-11-17', 'settlement_date': '2025-11-19'},\n",
       "  {'fixing_date': '2025-12-17', 'settlement_date': '2025-12-19'},\n",
       "  {'fixing_date': '2026-01-20', 'settlement_date': '2026-01-22'}],\n",
       " 'autocall_schedule': [{'observation_date': '2025-01-17',\n",
       "   'settlement_date': '2025-01-21'},\n",
       "  {'observation_date': '2025-02-18', 'settlement_date': '2025-02-20'},\n",
       "  {'observation_date': '2025-03-17', 'settlement_date': '2025-03-19'},\n",
       "  {'observation_date': '2025-04-17', 'settlement_date': '2025-04-23'},\n",
       "  {'observation_date': '2025-05-19', 'settlement_date': '2025-05-21'},\n",
       "  {'observation_date': '2025-06-17', 'settlement_date': '2025-06-19'},\n",
       "  {'observation_date': '2025-07-17', 'settlement_date': '2025-07-21'},\n",
       "  {'observation_date': '2025-08-18', 'settlement_date': '2025-08-20'},\n",
       "  {'observation_date': '2025-09-17', 'settlement_date': '2025-09-19'},\n",
       "  {'observation_date': '2025-10-17', 'settlement_date': '2025-10-21'},\n",
       "  {'observation_date': '2025-11-17', 'settlement_date': '2025-11-19'},\n",
       "  {'observation_date': '2025-12-17', 'settlement_date': '2025-12-19'}],\n",
       " 'autocall_percent_value': '100.0000',\n",
       " 'coupon_percent_value': '12.5000',\n",
       " 'knock_in_barrier_level': None,\n",
       " 'strike_level': '65.0000',\n",
       " 'stepdown_level': None,\n",
       " 'knock_in_observation': '',\n",
       " 'first_autocall_observation_date': '2025-01-17',\n",
       " 'autocall_frequency': 'Monthly',\n",
       " 'autocall_observation_style': 'End of Period',\n",
       " 'autocall_non_call_periods': None,\n",
       " 'coupon_frequency': 'Monthly'}"
      ]
     },
     "execution_count": 181,
     "metadata": {},
     "output_type": "execute_result"
    }
   ],
   "source": [
    "json_claude"
   ]
  },
  {
   "cell_type": "code",
   "execution_count": 182,
   "id": "a9494301-e849-44f3-9863-c1a6282c4c66",
   "metadata": {
    "execution": {
     "iopub.execute_input": "2025-08-07T11:21:37.814206Z",
     "iopub.status.busy": "2025-08-07T11:21:37.813725Z",
     "iopub.status.idle": "2025-08-07T11:21:37.828749Z",
     "shell.execute_reply": "2025-08-07T11:21:37.827777Z",
     "shell.execute_reply.started": "2025-08-07T11:21:37.814174Z"
    }
   },
   "outputs": [
    {
     "name": "stdout",
     "output_type": "stream",
     "text": [
      " issuer_lei is correct\n",
      " isin is correct\n",
      " currency is correct\n",
      " underlyings is not correct lgt [{'name': 'Advanced Micro Devices Inc', 'currency': 'USD', 'isin': 'US0079031078', 'bloomberg_ticker': 'AMD UQ', 'fixing_price_original': '164.1500'}, {'name': 'Alphabet Inc (Class A)', 'currency': 'USD', 'isin': 'US02079K3059', 'bloomberg_ticker': 'GOOGL UQ', 'fixing_price_original': '184.7700'}, {'name': 'NVIDIA Corp', 'currency': 'USD', 'isin': 'US67066G1040', 'bloomberg_ticker': 'NVDA UQ', 'fixing_price_original': '121.6000'}] ----- claude [{'name': 'NVIDIA CORP', 'currency': 'USD', 'isin': '', 'bloomberg_ticker': 'NVDA UW', 'fixing_price_original': '121.6000'}, {'name': 'ADVANCED MICRO DEVICES', 'currency': 'USD', 'isin': '', 'bloomberg_ticker': 'AMD UW', 'fixing_price_original': '164.1500'}, {'name': 'ALPHABET INC-CL A', 'currency': 'USD', 'isin': '', 'bloomberg_ticker': 'GOOGL UW', 'fixing_price_original': '184.7700'}]\n",
      " initial_fixing_date is not correct lgt 2024-07-03 00:00:00 ----- claude 2024-07-17 00:00:00\n",
      " issue_date is correct\n",
      " final_fixing_date is correct\n",
      " maturity_date is correct\n",
      " coupon_schedule is correct\n",
      " autocall_schedule is not correct lgt [] ----- claude [{'observation_date': '2025-01-17', 'settlement_date': '2025-01-21'}, {'observation_date': '2025-02-18', 'settlement_date': '2025-02-20'}, {'observation_date': '2025-03-17', 'settlement_date': '2025-03-19'}, {'observation_date': '2025-04-17', 'settlement_date': '2025-04-23'}, {'observation_date': '2025-05-19', 'settlement_date': '2025-05-21'}, {'observation_date': '2025-06-17', 'settlement_date': '2025-06-19'}, {'observation_date': '2025-07-17', 'settlement_date': '2025-07-21'}, {'observation_date': '2025-08-18', 'settlement_date': '2025-08-20'}, {'observation_date': '2025-09-17', 'settlement_date': '2025-09-19'}, {'observation_date': '2025-10-17', 'settlement_date': '2025-10-21'}, {'observation_date': '2025-11-17', 'settlement_date': '2025-11-19'}, {'observation_date': '2025-12-17', 'settlement_date': '2025-12-19'}]\n",
      " autocall_percent_value is correct\n",
      " coupon_percent_value is correct\n",
      " knock_in_barrier_level is correct\n",
      " strike_level is correct\n",
      " stepdown_level is correct\n",
      " knock_in_observation is correct\n",
      " first_autocall_observation_date is correct\n",
      " autocall_frequency is not correct lgt Daily ----- claude Monthly\n",
      " autocall_observation_style is not correct lgt Daily Close ----- claude End of Period\n",
      " autocall_non_call_periods is correct\n",
      " coupon_frequency is correct\n"
     ]
    }
   ],
   "source": [
    "output_json = json.loads(r['content'][0]['text'])\n",
    "with open('test_files/sample_output/XS2845792592.json', 'r') as f:\n",
    "    data = f.read()\n",
    "json_lgt = json.loads(data)\n",
    "\n",
    "def check_json(json_lgt, json_claude):\n",
    "    for key, value in json_lgt.items():\n",
    "        # Special treatment for dates to convert them\n",
    "        if key in ['initial_fixing_date','issue_date','maturity_date','final_fixing_date','first_autocall_observation_date']:\n",
    "            json_lgt[key] = parse(json_lgt[key])\n",
    "            json_claude[key] = parse(json_claude[key])\n",
    "        # Special treatment for underlyings\n",
    "\n",
    "        # Special treatment for schedule\n",
    "        if key == 'coupon_schedule':\n",
    "            json_lgt[key] = [{'fixing_date': parse(item['fixing_date']), 'settlement_date': parse(item['settlement_date'])} for item in json_lgt[key]]\n",
    "            json_claude[key] = [{'fixing_date': parse(item['fixing_date']), 'settlement_date': parse(item['settlement_date'])} for item in json_claude[key]]\n",
    "\n",
    "    # Verification\n",
    "    for key, value in json_lgt.items():\n",
    "        if json_lgt[key] == json_claude[key]:\n",
    "            print(f' {key} is correct')\n",
    "        else:\n",
    "            print(f' {key} is not correct lgt {json_lgt[key]} ----- claude {json_claude[key]}')\n",
    "\n",
    "check_json(json_lgt, json_claude)  "
   ]
  },
  {
   "cell_type": "code",
   "execution_count": 199,
   "id": "d733bcb4-1769-440c-8cf1-9e6eaa922253",
   "metadata": {
    "execution": {
     "iopub.execute_input": "2025-08-07T11:43:30.891556Z",
     "iopub.status.busy": "2025-08-07T11:43:30.890554Z",
     "iopub.status.idle": "2025-08-07T11:45:45.180131Z",
     "shell.execute_reply": "2025-08-07T11:45:45.179264Z",
     "shell.execute_reply.started": "2025-08-07T11:43:30.891523Z"
    }
   },
   "outputs": [
    {
     "name": "stdout",
     "output_type": "stream",
     "text": [
      "{'id': 'msg_bdrk_018TL7pLrXXzDfPSwzUWjgrU', 'type': 'message', 'role': 'assistant', 'model': 'claude-3-5-sonnet-20240620', 'content': [{'type': 'text', 'text': '[0, 1, 2, 3, 4]'}], 'stop_reason': 'end_turn', 'stop_sequence': None, 'usage': {'input_tokens': 12523, 'output_tokens': 18}}\n",
      "{'id': 'msg_bdrk_015wqtxnq5Xr4xNFBaVUHHao', 'type': 'message', 'role': 'assistant', 'model': 'claude-3-5-sonnet-20240620', 'content': [{'type': 'text', 'text': '[0, 1, 2, 3, 4]'}], 'stop_reason': 'end_turn', 'stop_sequence': None, 'usage': {'input_tokens': 15631, 'output_tokens': 18}}\n",
      "{'id': 'msg_bdrk_011jKnbf1W9rt4z9waVCtgma', 'type': 'message', 'role': 'assistant', 'model': 'claude-3-5-sonnet-20240620', 'content': [{'type': 'text', 'text': '[0, 1, 2, 3]'}], 'stop_reason': 'end_turn', 'stop_sequence': None, 'usage': {'input_tokens': 13582, 'output_tokens': 15}}\n",
      "{'id': 'msg_bdrk_01E4NAhB1oxB7LsApeDed1p3', 'type': 'message', 'role': 'assistant', 'model': 'claude-3-5-sonnet-20240620', 'content': [{'type': 'text', 'text': '[0, 3, 4, 5, 6]'}], 'stop_reason': 'end_turn', 'stop_sequence': None, 'usage': {'input_tokens': 27073, 'output_tokens': 18}}\n",
      "{'id': 'msg_bdrk_01XdEfiq63Yh91uWZFLyUpZK', 'type': 'message', 'role': 'assistant', 'model': 'claude-3-5-sonnet-20240620', 'content': [{'type': 'text', 'text': '[0, 1, 2, 3, 4]'}], 'stop_reason': 'end_turn', 'stop_sequence': None, 'usage': {'input_tokens': 12523, 'output_tokens': 18}}\n"
     ]
    }
   ],
   "source": [
    "# Running json extraction for all\n",
    "\n",
    "paths = ['test_files/XS2845792592.pdf', 'test_files/XS2915153717.pdf', 'test_files/XS2773440412.pdf', 'test_files/XS2682830307.pdf', 'test_files/CH1350121724.pdf']\n",
    "prompt = 'I am passing you a list of images that come from a financial term sheet, this financial term sheet contains information relative to the financial asset in some pages, but some other pages contain only disclaimers statements of risk and other legal stuff, can you please send me back an array of the index of the images that contain information relative to the asset, make sure to only pass me back the array of indexes and nothing else'\n",
    "for path in paths:\n",
    "    r = remove_disclaimers(prompt, path)\n",
    "\n",
    "paths_clean = ['test_files/XS2845792592eng_clean.pdf', 'test_files/XS2915153717eng_clean.pdf', 'test_files/XS2773440412eng_clean.pdf', 'test_files/XS2682830307eng_clean.pdf', 'test_files/CH1350121724eng_clean.pdf']\n",
    "prompt = f\"\"\"I have this json example {json.dumps(json_example)} and I give you a document containing information about a financial asset, can you please replace the fields and output me back the json with the information of the right document filled, make sure to only give me the json so I can parse it properly, do not put break lines, also take into account that the values of 'first_autocall_observation_date': '17 January 2025',\n",
    " 'autocall_frequency': 'Monthly' or 'Daily'\n",
    " 'autocall_observation_style': 'End of Period' or 'Daily Close',\n",
    " 'coupon_frequency': 'Monthly' or 'Daily'\n",
    " \"\"\"\n",
    "for path_clean in paths_clean:\n",
    "    json_claude, r = get_json(path_clean,prompt)\n",
    "    with open(f'test_files/sample_output/{path_clean[11:-13]}_parsed.json', 'w', encoding='utf-8') as f:\n",
    "        json.dump(json_claude, f, ensure_ascii=False, indent=4)"
   ]
  },
  {
   "cell_type": "code",
   "execution_count": null,
   "id": "b21143ac-aa76-4c2f-bcc9-06904cbe0ecd",
   "metadata": {},
   "outputs": [],
   "source": []
  },
  {
   "cell_type": "code",
   "execution_count": null,
   "id": "84941c43-d90e-4022-8bbe-516c0f80985d",
   "metadata": {},
   "outputs": [],
   "source": [
    "# Serving \n",
    "\n",
    "# Here I would have like to expose a fastapi with a swagger via ngrok"
   ]
  },
  {
   "cell_type": "code",
   "execution_count": null,
   "id": "e21b0f7d-6dab-4024-9758-b072ed1fe454",
   "metadata": {},
   "outputs": [],
   "source": []
  }
 ],
 "metadata": {
  "kernelspec": {
   "display_name": "Python 3 (ipykernel)",
   "language": "python",
   "name": "python3"
  },
  "language_info": {
   "codemirror_mode": {
    "name": "ipython",
    "version": 3
   },
   "file_extension": ".py",
   "mimetype": "text/x-python",
   "name": "python",
   "nbconvert_exporter": "python",
   "pygments_lexer": "ipython3",
   "version": "3.12.9"
  }
 },
 "nbformat": 4,
 "nbformat_minor": 5
}
